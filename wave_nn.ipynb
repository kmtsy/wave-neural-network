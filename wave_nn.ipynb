{
 "cells": [
  {
   "cell_type": "code",
   "execution_count": 36,
   "id": "8960a74d",
   "metadata": {},
   "outputs": [
    {
     "name": "stdout",
     "output_type": "stream",
     "text": [
      "Successfully imported custom modules (wave_nn, ranking_functions, ffact).\n",
      "PyTorch will use device: cuda\n"
     ]
    }
   ],
   "source": [
    "# --- Core Libraries ---\n",
    "import numpy as np\n",
    "import pandas as pd\n",
    "import matplotlib.pyplot as plt\n",
    "import os\n",
    "import math\n",
    "\n",
    "# --- PyTorch ---\n",
    "import torch\n",
    "import torch.nn as nn\n",
    "\n",
    "# --- Interactive Widgets & Progress Bar ---\n",
    "import ipywidgets as widgets\n",
    "from ipywidgets import Layout, interact_manual # FIX: Added interact_manual here\n",
    "from tqdm.notebook import tqdm\n",
    "\n",
    "# --- CUSTOM MODULE IMPORTS ---\n",
    "try:\n",
    "    from ffact import generate_factorial_table\n",
    "    from wave_nn import ASTorqueModel, RPM_GRID, STATIC_DIM\n",
    "    from ranking_functions import get_max_torque, get_avg_torque, get_smoothness, quicksort_3d\n",
    "    print(\"Successfully imported custom modules (wave_nn, ranking_functions, ffact).\")\n",
    "except ImportError as e:\n",
    "    print(f\"ERROR: Could not import custom modules: {e}\")\n",
    "    print(\"Please ensure wave_nn.py, ranking_functions.py, and ffact.py are in the same directory as this notebook.\")\n",
    "\n",
    "# --- GLOBAL CONFIGURATION ---\n",
    "DEVICE = \"cuda\" if torch.cuda.is_available() else \"cpu\"\n",
    "print(f\"PyTorch will use device: {DEVICE}\")\n",
    "\n",
    "# These are the maximum allowable ranges for the DOE parameters for UI validation.\n",
    "MAX_RANGES = {\n",
    "    'sec_header_len': (10.0, 14.0),\n",
    "    'header_len': (400.0, 560.0),\n",
    "    'runner_len': (6.0, 15.0),\n",
    "    'plenum_vol': (1.0, 5.0),\n",
    "}"
   ]
  },
  {
   "cell_type": "code",
   "execution_count": 37,
   "id": "b8f953e5",
   "metadata": {},
   "outputs": [
    {
     "name": "stdout",
     "output_type": "stream",
     "text": [
      "Model and normalization data loaded successfully.\n"
     ]
    }
   ],
   "source": [
    "# This global variable will store the results from the DOE run\n",
    "torque_curves_data = None\n",
    "\n",
    "try:\n",
    "    # --- Load Normalization Statistics ---\n",
    "    S_mean = np.load(\"S_mean.npy\")\n",
    "    S_std = np.load(\"S_std.npy\")\n",
    "    Y_mean = np.load(\"Y_mean.npy\")\n",
    "    Y_std = np.load(\"Y_std.npy\")\n",
    "\n",
    "    # --- Restore Trained Network ---\n",
    "    model = ASTorqueModel().to(DEVICE)\n",
    "    # Using weights_only=True is the recommended, secure way to load weights\n",
    "    state_dict = torch.load(\"wave.nn\", map_location=DEVICE, weights_only=True)\n",
    "    model.load_state_dict(state_dict)\n",
    "    model.eval()\n",
    "    \n",
    "    # --- Prepare Base RPM Tensor for Inference ---\n",
    "    rpm_norm_base = ((RPM_GRID - RPM_GRID.mean()) / RPM_GRID.std()).astype(np.float32)\n",
    "    rpm_norm_base = torch.tensor(rpm_norm_base, device=DEVICE).unsqueeze(0).unsqueeze(0)\n",
    "\n",
    "    print(\"Model and normalization data loaded successfully.\")\n",
    "    \n",
    "except (FileNotFoundError, RuntimeError) as e:\n",
    "    print(f\"ERROR loading model or data files: {e}\")\n",
    "    print(\"Please ensure wave.nn and all .npy files are present and that the model architecture in wave_nn.py matches the saved file.\")"
   ]
  },
  {
   "cell_type": "code",
   "execution_count": 38,
   "id": "ec5bc771",
   "metadata": {},
   "outputs": [
    {
     "data": {
      "application/vnd.jupyter.widget-view+json": {
       "model_id": "6ebf069d69c54bdfa5380a97df93c617",
       "version_major": 2,
       "version_minor": 0
      },
      "text/plain": [
       "VBox(children=(HBox(children=(FloatRangeSlider(value=(10.5, 12.5), description='Sec. Header Len (in)', layout=…"
      ]
     },
     "metadata": {},
     "output_type": "display_data"
    },
    {
     "data": {
      "application/vnd.jupyter.widget-view+json": {
       "model_id": "2ad870475c0d4563bdab81e75a5babcd",
       "version_major": 2,
       "version_minor": 0
      },
      "text/plain": [
       "Button(button_style='success', description='Run DOE Solver', icon='cogs', style=ButtonStyle())"
      ]
     },
     "metadata": {},
     "output_type": "display_data"
    }
   ],
   "source": [
    "style = {'description_width': 'initial'}\n",
    "layout = Layout(width='100%')\n",
    "\n",
    "# --- WIDGETS FOR DOE PARAMETERS ---\n",
    "sh_slider = widgets.FloatRangeSlider(value=[10.5, 12.5], min=MAX_RANGES['sec_header_len'][0], max=MAX_RANGES['sec_header_len'][1], step=0.1, description='Sec. Header Len (in)', style=style, layout=layout, readout_format='.1f')\n",
    "sh_step = widgets.FloatText(value=0.5, description='Step', layout=Layout(width='150px'))\n",
    "\n",
    "ph_slider = widgets.FloatRangeSlider(value=[420, 480], min=MAX_RANGES['header_len'][0], max=MAX_RANGES['header_len'][1], step=1.0, description='Header Len (mm)', style=style, layout=layout, readout_format='.0f')\n",
    "ph_step = widgets.FloatText(value=20, description='Step', layout=Layout(width='150px'))\n",
    "\n",
    "ir_slider = widgets.FloatRangeSlider(value=[8.0, 12.0], min=MAX_RANGES['runner_len'][0], max=MAX_RANGES['runner_len'][1], step=0.1, description='Runner Len (in)', style=style, layout=layout, readout_format='.1f')\n",
    "ir_step = widgets.FloatText(value=1.0, description='Step', layout=Layout(width='150px'))\n",
    "\n",
    "pv_slider = widgets.FloatRangeSlider(value=[2.0, 4.0], min=MAX_RANGES['plenum_vol'][0], max=MAX_RANGES['plenum_vol'][1], step=0.1, description='Plenum Vol (L)', style=style, layout=layout, readout_format='.1f')\n",
    "pv_step = widgets.FloatText(value=0.5, description='Step', layout=Layout(width='150px'))\n",
    "\n",
    "# --- UI LAYOUT ---\n",
    "ui = widgets.VBox([\n",
    "    widgets.HBox([sh_slider, sh_step]),\n",
    "    widgets.HBox([ph_slider, ph_step]),\n",
    "    widgets.HBox([ir_slider, ir_step]),\n",
    "    widgets.HBox([pv_slider, pv_step])\n",
    "])\n",
    "\n",
    "def run_doe_solver(b):\n",
    "    \"\"\"Function to execute when the 'Run DOE' button is clicked.\"\"\"\n",
    "    global torque_curves_data\n",
    "    \n",
    "    # --- Generate DOE table using imported function ---\n",
    "    print(\"Generating DOE table...\")\n",
    "    # The function signature from ffact.py expects lower bound, upper bound, and step for each variable.\n",
    "    doe_table = np.asarray(generate_factorial_table(\n",
    "        sh_slider.value[0], sh_slider.value[1], sh_step.value,\n",
    "        ph_slider.value[0], ph_slider.value[1], ph_step.value,\n",
    "        ir_slider.value[0], ir_slider.value[1], ir_step.value,\n",
    "        pv_slider.value[0], pv_slider.value[1], pv_step.value\n",
    "    ))\n",
    "    \n",
    "    n_cases = doe_table.shape[0]\n",
    "    if n_cases == 0:\n",
    "        print(\"Warning: DOE table is empty. Check your range and step values.\")\n",
    "        return\n",
    "    print(f\"Generated {n_cases} cases.\")\n",
    "    \n",
    "    # --- Initialize result array ---\n",
    "    SEQ_LEN = len(RPM_GRID)\n",
    "    result_curves = np.zeros((SEQ_LEN, STATIC_DIM + 2, n_cases), dtype=np.float32)\n",
    "    \n",
    "    # --- Run inference loop ---\n",
    "    with tqdm(total=n_cases, desc=\"Solving DOE cases\") as pbar:\n",
    "        for i, params in enumerate(doe_table):\n",
    "            stat_norm = (params - S_mean) / S_std\n",
    "            stat_tensor = torch.tensor(stat_norm, dtype=torch.float32, device=DEVICE).unsqueeze(0)\n",
    "            \n",
    "            with torch.no_grad():\n",
    "                pred_norm = model(rpm_norm_base, stat_tensor).squeeze(0).cpu().numpy()\n",
    "            \n",
    "            pred_torque = pred_norm * Y_std + Y_mean\n",
    "            \n",
    "            block = np.hstack([\n",
    "                np.tile(params, (SEQ_LEN, 1)),\n",
    "                RPM_GRID.reshape(-1, 1),\n",
    "                pred_torque.reshape(-1, 1)\n",
    "            ])\n",
    "            result_curves[:, :, i] = block\n",
    "            pbar.update(1)\n",
    "            \n",
    "    # Pad array for future ranking metrics\n",
    "    torque_curves_data = np.pad(result_curves, pad_width=((0, 0), (0, 4), (0, 0)), mode='constant')\n",
    "    \n",
    "    print(\"\\nDOE solving complete. Results are stored.\")\n",
    "    print(f\"Shape of results array: {torque_curves_data.shape}\")\n",
    "\n",
    "# --- BUTTON AND OUTPUT ---\n",
    "run_button = widgets.Button(description=\"Run DOE Solver\", button_style='success', icon='cogs')\n",
    "run_button.on_click(run_doe_solver)\n",
    "\n",
    "display(ui, run_button)"
   ]
  },
  {
   "cell_type": "code",
   "execution_count": 39,
   "id": "afb25c4d",
   "metadata": {},
   "outputs": [
    {
     "data": {
      "application/vnd.jupyter.widget-view+json": {
       "model_id": "c5582cff137942bd9c5f30bb1b9e1c0d",
       "version_major": 2,
       "version_minor": 0
      },
      "text/plain": [
       "VBox(children=(FloatSlider(value=0.05, description='Weight: Max Torque', layout=Layout(width='100%'), max=1.0,…"
      ]
     },
     "metadata": {},
     "output_type": "display_data"
    },
    {
     "data": {
      "application/vnd.jupyter.widget-view+json": {
       "model_id": "c7076545489e41e5a57150eed493bcf5",
       "version_major": 2,
       "version_minor": 0
      },
      "text/plain": [
       "Output()"
      ]
     },
     "metadata": {},
     "output_type": "display_data"
    }
   ],
   "source": [
    "# --- WIDGETS FOR RANKING ---\n",
    "style = {'description_width': 'initial'}\n",
    "layout = Layout(width='100%')\n",
    "\n",
    "# Define the widgets that will serve as inputs\n",
    "max_tq_weight_slider = widgets.FloatSlider(value=0.05, min=0, max=1.0, step=0.05, description='Weight: Max Torque', style=style, layout=layout)\n",
    "avg_tq_weight_slider = widgets.FloatSlider(value=0.70, min=0, max=1.0, step=0.05, description='Weight: Avg Torque (7-11k RPM)', style=style, layout=layout)\n",
    "smoothness_weight_slider = widgets.FloatSlider(value=0.25, min=0, max=1.0, step=0.05, description='Weight: Smoothness', style=style, layout=layout)\n",
    "num_curves_slider = widgets.IntSlider(value=5, min=1, max=100, step=1, description='Top Curves to Plot:', style=style, layout=layout)\n",
    "\n",
    "# Define the button that will trigger the action\n",
    "rank_button = widgets.Button(description=\"Rank and Plot Results\", button_style='primary', icon='sort')\n",
    "\n",
    "# Create a dedicated Output widget to display results\n",
    "ranking_output = widgets.Output()\n",
    "\n",
    "def run_ranking_on_click(b):\n",
    "    \"\"\"\n",
    "    This function redirects all output to the 'ranking_output' widget,\n",
    "    clearing it before each new execution.\n",
    "    \"\"\"\n",
    "    # Use a 'with' block to capture all output into the dedicated widget\n",
    "    with ranking_output:\n",
    "        # Clear the previous output. wait=True prevents flickering.\n",
    "        ranking_output.clear_output(wait=True)\n",
    "        \n",
    "        if torque_curves_data is None:\n",
    "            print(\"Error: Please run the DOE solver in Part 1 first.\")\n",
    "            return\n",
    "            \n",
    "        print(\"Starting ranking and plotting process...\")\n",
    "        rank_button.disabled = True\n",
    "        \n",
    "        try:\n",
    "            # --- Calculation and Sorting Logic (unchanged) ---\n",
    "            local_torque_curves = torque_curves_data.copy()\n",
    "            shape = local_torque_curves.shape\n",
    "            with tqdm(total=shape[2], desc=\"Calculating ranking parameters\") as pbar:\n",
    "                for i in range(shape[2]):\n",
    "                    curve_slice = local_torque_curves[:, :, i]\n",
    "                    temp = np.concatenate((get_max_torque(curve_slice), get_avg_torque(curve_slice, 7000, 11000), get_smoothness(curve_slice)), axis=1)\n",
    "                    local_torque_curves[:, 6:9, i] = temp\n",
    "                    pbar.update(1)\n",
    "            local_torque_curves[:, 6, :] /= np.max(local_torque_curves[:, 6, :])\n",
    "            local_torque_curves[:, 7, :] /= np.max(local_torque_curves[:, 7, :])\n",
    "            local_torque_curves[:, 8, :] /= np.max(local_torque_curves[:, 8, :])\n",
    "            local_torque_curves[:, 8, :] = 1 - local_torque_curves[:, 8, :]\n",
    "            w_max, w_avg, w_smooth = max_tq_weight_slider.value, avg_tq_weight_slider.value, smoothness_weight_slider.value\n",
    "            local_torque_curves[:, 9, :] = (w_max * local_torque_curves[0, 6, :] + w_avg * local_torque_curves[0, 7, :] + w_smooth * local_torque_curves[0, 8, :])\n",
    "            with tqdm(total=shape[2] * math.ceil(np.log2(shape[2])), desc=\"Sorting curves\") as pbar:\n",
    "                sorted_curves = quicksort_3d(local_torque_curves, progress_bar=pbar)\n",
    "            \n",
    "            # --- Plotting Logic ---\n",
    "            num_to_plot = num_curves_slider.value\n",
    "            plt.figure(figsize=(14, 8))\n",
    "            labels = []\n",
    "            for i in range(min(num_to_plot, shape[2])):\n",
    "                params, rank_score = sorted_curves[0, 0:4, i], sorted_curves[0, 9, i]\n",
    "                label_text = f\"Rank {i+1} (Score: {rank_score:.3f}): SH={params[0]:.2f}, H={params[1]:.1f}, R={params[2]:.2f}, PV={params[3]:.2f}\"\n",
    "                labels.append(label_text)\n",
    "                plt.plot(sorted_curves[:, 4, i], sorted_curves[:, 5, i], alpha=0.9)\n",
    "            plt.title(f\"Top {num_to_plot} Torque Curves (Ranked by Custom Weights)\")\n",
    "            plt.xlabel(\"RPM\")\n",
    "            plt.ylabel(\"Torque (Nm)\")\n",
    "            plt.legend(labels, bbox_to_anchor=(1.02, 1), loc='upper left', fontsize='small')\n",
    "            plt.grid(True, which='both', linestyle='--')\n",
    "            plt.tight_layout()\n",
    "            # plt.show() will now render the plot inside the ranking_output widget\n",
    "            plt.show()\n",
    "            print(\"Process complete.\")\n",
    "\n",
    "        except Exception as e:\n",
    "            print(f\"An unexpected error occurred: {e}\")\n",
    "        finally:\n",
    "            rank_button.disabled = False\n",
    "\n",
    "# --- ATTACH EVENT HANDLER AND DISPLAY UI ---\n",
    "rank_button._click_handlers.callbacks = []\n",
    "rank_button.on_click(run_ranking_on_click)\n",
    "\n",
    "# Display the input controls and the dedicated output area\n",
    "ranking_controls = widgets.VBox([max_tq_weight_slider, avg_tq_weight_slider, smoothness_weight_slider, num_curves_slider, rank_button])\n",
    "display(ranking_controls, ranking_output)\n"
   ]
  },
  {
   "cell_type": "code",
   "execution_count": 40,
   "id": "1168dbf0",
   "metadata": {},
   "outputs": [
    {
     "data": {
      "application/vnd.jupyter.widget-view+json": {
       "model_id": "7a6e94be26264a34be96669156749146",
       "version_major": 2,
       "version_minor": 0
      },
      "text/plain": [
       "HBox(children=(VBox(children=(FloatText(value=12.0, description='Sec. Header (in):', style=DescriptionStyle(de…"
      ]
     },
     "metadata": {},
     "output_type": "display_data"
    },
    {
     "data": {
      "application/vnd.jupyter.widget-view+json": {
       "model_id": "9fffe4da37a147dea0b72588414a74ad",
       "version_major": 2,
       "version_minor": 0
      },
      "text/plain": [
       "Output()"
      ]
     },
     "metadata": {},
     "output_type": "display_data"
    }
   ],
   "source": [
    "# --- WIDGETS FOR SINGLE PREDICTION ---\n",
    "style = {'description_width': 'initial'}\n",
    "sh_input = widgets.FloatText(value=12.0, description='Sec. Header (in):', style=style)\n",
    "ph_input = widgets.FloatText(value=450.0, description='Header Len (mm):', style=style)\n",
    "ir_input = widgets.FloatText(value=10.0, description='Runner Len (in):', style=style)\n",
    "pv_input = widgets.FloatText(value=3.0, description='Plenum Vol (L):', style=style)\n",
    "filename_input = widgets.Text(value='single_torque_curve.csv', description='Save Filename:', style=style)\n",
    "\n",
    "single_pred_button = widgets.Button(description=\"Predict Torque Curve\", button_style='success', icon='calculator')\n",
    "save_csv_button = widgets.Button(description=\"Save to CSV\", button_style='info', icon='save', disabled=True)\n",
    "\n",
    "# Create a dedicated Output widget for this section\n",
    "single_pred_output = widgets.Output()\n",
    "latest_single_curve = None\n",
    "\n",
    "def run_single_prediction(b):\n",
    "    \"\"\"Predicts a single curve and displays all output in the dedicated widget.\"\"\"\n",
    "    global latest_single_curve\n",
    "    # Use a 'with' block to capture all output\n",
    "    with single_pred_output:\n",
    "        single_pred_output.clear_output(wait=True)\n",
    "        print(\"Starting prediction...\")\n",
    "        single_pred_button.disabled = True\n",
    "        save_csv_button.disabled = True\n",
    "        \n",
    "        try:\n",
    "            params = np.array([sh_input.value, ph_input.value, ir_input.value, pv_input.value])\n",
    "            valid = True\n",
    "            for i, p_name in enumerate(MAX_RANGES.keys()):\n",
    "                min_val, max_val = MAX_RANGES[p_name]\n",
    "                if not (min_val <= params[i] <= max_val):\n",
    "                    print(f\"VALIDATION FAILED: '{p_name}' ({params[i]}) is out of range ({min_val} to {max_val}).\")\n",
    "                    valid = False\n",
    "            if not valid: return\n",
    "                \n",
    "            stat_norm = (params - S_mean) / S_std\n",
    "            stat_tensor = torch.tensor(stat_norm, dtype=torch.float32, device=DEVICE).unsqueeze(0)\n",
    "            \n",
    "            with torch.no_grad():\n",
    "                pred_norm = model(rpm_norm_base, stat_tensor).squeeze(0).cpu().numpy()\n",
    "            \n",
    "            pred_torque = pred_norm * Y_std + Y_mean\n",
    "            latest_single_curve = pd.DataFrame({'RPM': RPM_GRID.astype(int), 'Torque_Nm': pred_torque})\n",
    "            \n",
    "            plt.figure(figsize=(10, 6))\n",
    "            plt.plot(latest_single_curve['RPM'], latest_single_curve['Torque_Nm'], marker='o', linestyle='-')\n",
    "            plt.title(f\"Predicted Torque Curve for:\\nSH={params[0]:.2f}, H={params[1]:.1f}, R={params[2]:.2f}, PV={params[3]:.2f}\")\n",
    "            plt.xlabel(\"RPM\")\n",
    "            plt.ylabel(\"Torque (Nm)\")\n",
    "            plt.grid(True)\n",
    "            plt.show() # Renders plot inside the output widget\n",
    "            \n",
    "            print(\"Prediction complete. You can now save the data to CSV.\")\n",
    "            save_csv_button.disabled = False\n",
    "        \n",
    "        except Exception as e:\n",
    "            print(f\"An unexpected error occurred during prediction: {e}\")\n",
    "        finally:\n",
    "            single_pred_button.disabled = False\n",
    "\n",
    "def save_to_csv(b):\n",
    "    \"\"\"Saves the curve to CSV, with status messages in the output widget.\"\"\"\n",
    "    with single_pred_output:\n",
    "        print(\"\\nAttempting to save data...\")\n",
    "        try:\n",
    "            if latest_single_curve is not None:\n",
    "                filename = filename_input.value\n",
    "                if not filename.endswith('.csv'): filename += '.csv'\n",
    "                latest_single_curve.to_csv(filename, index=False, float_format='%.2f')\n",
    "                print(f\"Successfully saved torque curve to '{os.path.abspath(filename)}'\")\n",
    "            else:\n",
    "                print(\"No curve data to save. Please run a prediction first.\")\n",
    "        except Exception as e:\n",
    "            print(f\"An unexpected error occurred during save: {e}\")\n",
    "\n",
    "# --- ATTACH EVENT HANDLERS ---\n",
    "single_pred_button._click_handlers.callbacks = []\n",
    "save_csv_button._click_handlers.callbacks = []\n",
    "single_pred_button.on_click(run_single_prediction)\n",
    "save_csv_button.on_click(save_to_csv)\n",
    "\n",
    "# --- DISPLAY UI ---\n",
    "input_box = widgets.VBox([sh_input, ph_input, ir_input, pv_input])\n",
    "button_box = widgets.VBox([single_pred_button, filename_input, save_csv_button])\n",
    "# Display the controls and the dedicated output area\n",
    "display(widgets.HBox([input_box, button_box]), single_pred_output)\n"
   ]
  }
 ],
 "metadata": {
  "kernelspec": {
   "display_name": "Python 3",
   "language": "python",
   "name": "python3"
  },
  "language_info": {
   "codemirror_mode": {
    "name": "ipython",
    "version": 3
   },
   "file_extension": ".py",
   "mimetype": "text/x-python",
   "name": "python",
   "nbconvert_exporter": "python",
   "pygments_lexer": "ipython3",
   "version": "3.11.13"
  }
 },
 "nbformat": 4,
 "nbformat_minor": 5
}
